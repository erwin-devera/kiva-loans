{
 "cells": [
  {
   "cell_type": "code",
   "execution_count": 0,
   "metadata": {
    "application/vnd.databricks.v1+cell": {
     "cellMetadata": {
      "byteLimit": 2048000,
      "implicitDf": true,
      "rowLimit": 10000
     },
     "inputWidgets": {},
     "nuid": "b81a533b-c7c7-4789-aee3-d1ce683b5c10",
     "showTitle": false,
     "tableResultSettingsMap": {},
     "title": ""
    }
   },
   "outputs": [],
   "source": [
    "df_new_aggregate_amounts = spark.sql(\"\"\"\n",
    "SELECT  skl.transaction_date, \n",
    "        skl.country, \n",
    "        skl.region, \n",
    "        slti.loan_theme_type, \n",
    "        COUNT(DISTINCT skl.loan_id) count_of_loan_ids,\n",
    "        SUM(skl.funded_amount) funded_amount,\n",
    "        SUM(skl.loan_amount) loan_amount,\n",
    "        MAX(skl.processed_timestamp) processed_timestamp\n",
    "FROM silver.kiva_loans skl\n",
    "INNER JOIN silver.loan_theme_ids slti\n",
    "    ON skl.loan_id = slti.loan_id\n",
    "WHERE skl.country = 'Philippines'\n",
    "GROUP BY skl.transaction_date, skl.country, skl.region, slti.loan_theme_type\n",
    "ORDER BY skl.transaction_date, skl.country, skl.region, count_of_loan_ids DESC\n",
    "\"\"\")\n",
    "\n",
    "display(df_new_aggregate_amounts)"
   ]
  },
  {
   "cell_type": "code",
   "execution_count": 0,
   "metadata": {
    "application/vnd.databricks.v1+cell": {
     "cellMetadata": {
      "byteLimit": 2048000,
      "rowLimit": 10000
     },
     "inputWidgets": {},
     "nuid": "193938eb-a9c7-4183-8efb-af5b94c45eec",
     "showTitle": false,
     "tableResultSettingsMap": {},
     "title": ""
    }
   },
   "outputs": [],
   "source": [
    "table_name = \"gold.fact_amounts_by_date_by_country\"\n",
    "\n",
    "# Check if the table exists\n",
    "if not spark.catalog.tableExists(table_name):\n",
    "        print(f\"Table '{table_name}' does not exist. Creating the table now.\")\n",
    "        df_empty = df_new_aggregate_amounts.limit(0)\n",
    "        df_empty.write.format(\"delta\").mode(\"overwrite\").saveAsTable(table_name)\n",
    "else:\n",
    "    print(f\"Table '{table_name}' already exists. Perform MERGE instead.\")"
   ]
  },
  {
   "cell_type": "code",
   "execution_count": 0,
   "metadata": {
    "application/vnd.databricks.v1+cell": {
     "cellMetadata": {
      "byteLimit": 2048000,
      "implicitDf": true,
      "rowLimit": 10000
     },
     "inputWidgets": {},
     "nuid": "9e374934-cf6f-4e73-a212-5e4d12244319",
     "showTitle": false,
     "tableResultSettingsMap": {},
     "title": ""
    }
   },
   "outputs": [],
   "source": [
    "%sql\n",
    "SELECT * FROM gold.fact_amounts_by_date_by_country LIMIT 10"
   ]
  },
  {
   "cell_type": "code",
   "execution_count": 0,
   "metadata": {
    "application/vnd.databricks.v1+cell": {
     "cellMetadata": {
      "byteLimit": 2048000,
      "implicitDf": true,
      "rowLimit": 10000
     },
     "inputWidgets": {},
     "nuid": "0eec9987-fb3e-417e-b3f3-10b85bcb96ba",
     "showTitle": false,
     "tableResultSettingsMap": {},
     "title": ""
    }
   },
   "outputs": [],
   "source": [
    "from pyspark.sql.functions import max\n",
    "from datetime import datetime\n",
    "from pyspark.sql.utils import AnalysisException\n",
    "\n",
    "df_gold_fact_amounts_by_date_by_country = spark.table(table_name)\n",
    "max_ts = df_gold_fact_amounts_by_date_by_country.select(max(\"processed_timestamp\")).collect()[0][0] or datetime.strptime(\"1900-01-01 00:00:00\", \"%Y-%m-%d %H:%M:%S\")\n",
    "print(f\"Max processed timestamp: {max_ts}\")"
   ]
  },
  {
   "cell_type": "code",
   "execution_count": 0,
   "metadata": {
    "application/vnd.databricks.v1+cell": {
     "cellMetadata": {
      "byteLimit": 2048000,
      "implicitDf": true,
      "rowLimit": 10000
     },
     "inputWidgets": {},
     "nuid": "d01eda0c-4c3c-422a-a2bd-f864e4c946a1",
     "showTitle": false,
     "tableResultSettingsMap": {},
     "title": ""
    }
   },
   "outputs": [],
   "source": [
    "query = f\"\"\"\n",
    "CREATE OR REPLACE TEMPORARY VIEW temp_gold_fact_amounts_by_date_by_country AS \n",
    "SELECT * \n",
    "FROM gold.fact_amounts_by_date_by_country\n",
    "WHERE processed_timestamp > TIMESTAMP('{max_ts}')\n",
    "\"\"\"\n",
    "\n",
    "spark.sql(query)"
   ]
  },
  {
   "cell_type": "code",
   "execution_count": 0,
   "metadata": {
    "application/vnd.databricks.v1+cell": {
     "cellMetadata": {
      "byteLimit": 2048000,
      "implicitDf": true,
      "rowLimit": 10000
     },
     "inputWidgets": {},
     "nuid": "ff8f696c-3e3d-4f40-9ece-e029702bc31a",
     "showTitle": false,
     "tableResultSettingsMap": {},
     "title": ""
    }
   },
   "outputs": [],
   "source": [
    "%sql\n",
    "SELECT COUNT(1) FROM temp_gold_fact_amounts_by_date_by_country"
   ]
  },
  {
   "cell_type": "code",
   "execution_count": 0,
   "metadata": {
    "application/vnd.databricks.v1+cell": {
     "cellMetadata": {
      "byteLimit": 2048000,
      "implicitDf": true,
      "rowLimit": 10000
     },
     "inputWidgets": {},
     "nuid": "54660a5c-c545-4e21-81c6-c730c3cde5b5",
     "showTitle": false,
     "tableResultSettingsMap": {},
     "title": ""
    }
   },
   "outputs": [],
   "source": [
    "%sql\n",
    "\n",
    "MERGE INTO gold.fact_amounts_by_date_by_country AS target\n",
    "USING temp_gold_fact_amounts_by_date_by_country AS source\n",
    "  ON target.transaction_date = source.transaction_date \n",
    "  AND target.country = source.country \n",
    "  AND target.region = source.region \n",
    "  AND target.loan_theme_type = source.loan_theme_type\n",
    "WHEN MATCHED AND \n",
    "  target.count_of_loan_ids != source.count_of_loan_ids OR\n",
    "  target.funded_amount != source.funded_amount OR\n",
    "  target.loan_amount != source.loan_amount\n",
    "THEN UPDATE SET *\n",
    "WHEN NOT MATCHED THEN INSERT *\n"
   ]
  },
  {
   "cell_type": "code",
   "execution_count": 0,
   "metadata": {
    "application/vnd.databricks.v1+cell": {
     "cellMetadata": {
      "byteLimit": 2048000,
      "implicitDf": true,
      "rowLimit": 10000
     },
     "inputWidgets": {},
     "nuid": "173761a4-bbad-4572-96ce-2849a70bab05",
     "showTitle": false,
     "tableResultSettingsMap": {},
     "title": ""
    }
   },
   "outputs": [],
   "source": [
    "%sql\n",
    "SELECT COUNT(1) FROM gold.fact_amounts_by_date_by_country"
   ]
  },
  {
   "cell_type": "code",
   "execution_count": 0,
   "metadata": {
    "application/vnd.databricks.v1+cell": {
     "cellMetadata": {},
     "inputWidgets": {},
     "nuid": "f1348a82-e28e-477a-942a-72f268f424f6",
     "showTitle": false,
     "tableResultSettingsMap": {},
     "title": ""
    }
   },
   "outputs": [],
   "source": []
  }
 ],
 "metadata": {
  "application/vnd.databricks.v1+notebook": {
   "computePreferences": null,
   "dashboards": [],
   "environmentMetadata": {
    "base_environment": "",
    "environment_version": "2"
   },
   "inputWidgetPreferences": null,
   "language": "python",
   "notebookMetadata": {
    "mostRecentlyExecutedCommandWithImplicitDF": {
     "commandId": 8919649792228254,
     "dataframes": [
      "_sqldf"
     ]
    },
    "pythonIndentUnit": 4
   },
   "notebookName": "1.Create and load gold.fact_amounts_by_date_by_country",
   "widgets": {}
  },
  "language_info": {
   "name": "python"
  }
 },
 "nbformat": 4,
 "nbformat_minor": 0
}
