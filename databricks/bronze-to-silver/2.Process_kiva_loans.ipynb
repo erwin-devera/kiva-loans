{
 "cells": [
  {
   "cell_type": "code",
   "execution_count": 0,
   "metadata": {
    "application/vnd.databricks.v1+cell": {
     "cellMetadata": {
      "byteLimit": 2048000,
      "rowLimit": 10000
     },
     "inputWidgets": {},
     "nuid": "3737d231-ffbb-4c16-889b-53926f4660b1",
     "showTitle": false,
     "tableResultSettingsMap": {},
     "title": ""
    }
   },
   "outputs": [],
   "source": [
    "%run \"../config/Set-up Access to Azure Data Lake\""
   ]
  },
  {
   "cell_type": "code",
   "execution_count": 0,
   "metadata": {
    "application/vnd.databricks.v1+cell": {
     "cellMetadata": {
      "byteLimit": 2048000,
      "rowLimit": 10000
     },
     "inputWidgets": {},
     "nuid": "bab0265d-31c7-48d1-b7a7-a6079e3244bc",
     "showTitle": false,
     "tableResultSettingsMap": {},
     "title": ""
    }
   },
   "outputs": [],
   "source": [
    "df = spark.read.csv(\"abfss://bronze@devkivaloansdl.dfs.core.windows.net/kiva_loans.csv\", header=True, inferSchema=True)\n",
    "\n",
    "display(df)"
   ]
  },
  {
   "cell_type": "code",
   "execution_count": 0,
   "metadata": {
    "application/vnd.databricks.v1+cell": {
     "cellMetadata": {
      "byteLimit": 2048000,
      "rowLimit": 10000
     },
     "inputWidgets": {},
     "nuid": "ae35de0b-0f2f-49bc-a507-0649e4ec644a",
     "showTitle": false,
     "tableResultSettingsMap": {},
     "title": ""
    }
   },
   "outputs": [],
   "source": [
    "from pyspark.sql.functions import col\n",
    "\n",
    "df_kiva_loans_selected_fields = df.select('date',col('id').alias('loan_id'), 'funded_amount', 'loan_amount', 'sector', 'country_code', 'country','region', 'currency', col('partner_id').cast('int'), col('term_in_months').cast('int'), 'repayment_interval')\n",
    "\n",
    "display(df_kiva_loans_selected_fields)"
   ]
  },
  {
   "cell_type": "code",
   "execution_count": 0,
   "metadata": {
    "application/vnd.databricks.v1+cell": {
     "cellMetadata": {
      "byteLimit": 2048000,
      "rowLimit": 10000
     },
     "inputWidgets": {},
     "nuid": "8236301a-4313-4317-b69a-1f8274f3e496",
     "showTitle": false,
     "tableResultSettingsMap": {},
     "title": ""
    }
   },
   "outputs": [],
   "source": [
    "from pyspark.sql.functions import to_date, current_date, current_timestamp, from_utc_timestamp, date_format\n",
    "\n",
    "df_add_processed_date = df_kiva_loans_selected_fields.withColumn(\n",
    "    \"processed_timestamp\", \n",
    "    date_format(from_utc_timestamp(current_timestamp(), \"Australia/Melbourne\"), \"yyyy-MM-dd HH:mm:ss\")\n",
    ")\n",
    "\n",
    "display(df_add_processed_date)"
   ]
  },
  {
   "cell_type": "code",
   "execution_count": 0,
   "metadata": {
    "application/vnd.databricks.v1+cell": {
     "cellMetadata": {},
     "inputWidgets": {},
     "nuid": "61e51129-b6b6-42a1-b219-808ecff270cc",
     "showTitle": false,
     "tableResultSettingsMap": {},
     "title": ""
    }
   },
   "outputs": [],
   "source": []
  }
 ],
 "metadata": {
  "application/vnd.databricks.v1+notebook": {
   "computePreferences": null,
   "dashboards": [],
   "environmentMetadata": {
    "base_environment": "",
    "environment_version": "2"
   },
   "inputWidgetPreferences": null,
   "language": "python",
   "notebookMetadata": {
    "pythonIndentUnit": 4
   },
   "notebookName": "2.Process_kiva_loans",
   "widgets": {}
  },
  "language_info": {
   "name": "python"
  }
 },
 "nbformat": 4,
 "nbformat_minor": 0
}
